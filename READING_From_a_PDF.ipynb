{
  "nbformat": 4,
  "nbformat_minor": 0,
  "metadata": {
    "colab": {
      "provenance": [],
      "authorship_tag": "ABX9TyN0/N3oTGsvMXFUyA+TLnuh",
      "include_colab_link": true
    },
    "kernelspec": {
      "name": "python3",
      "display_name": "Python 3"
    },
    "language_info": {
      "name": "python"
    }
  },
  "cells": [
    {
      "cell_type": "markdown",
      "metadata": {
        "id": "view-in-github",
        "colab_type": "text"
      },
      "source": [
        "<a href=\"https://colab.research.google.com/github/Cynthia-Wanja-Dinah/READING-FROM-A-PDF/blob/main/READING_From_a_PDF.ipynb\" target=\"_parent\"><img src=\"https://colab.research.google.com/assets/colab-badge.svg\" alt=\"Open In Colab\"/></a>"
      ]
    },
    {
      "cell_type": "markdown",
      "source": [
        "STEP 1: Install the library. We have used the version 2.11.1. install the latest version\n",
        "! pip install PyPDF2 ==2.11.1"
      ],
      "metadata": {
        "id": "lt6gP29fCXWi"
      }
    },
    {
      "cell_type": "code",
      "source": [
        "! pip install PyPDF2"
      ],
      "metadata": {
        "colab": {
          "base_uri": "https://localhost:8080/"
        },
        "id": "Tr0ufDCgCyfC",
        "outputId": "a134b6cd-1999-42a2-a1cb-f72ca4f43776"
      },
      "execution_count": 3,
      "outputs": [
        {
          "output_type": "stream",
          "name": "stdout",
          "text": [
            "Collecting PyPDF2\n",
            "  Downloading pypdf2-3.0.1-py3-none-any.whl (232 kB)\n",
            "\u001b[?25l     \u001b[90m━━━━━━━━━━━━━━━━━━━━━━━━━━━━━━━━━━━━━━━━\u001b[0m \u001b[32m0.0/232.6 kB\u001b[0m \u001b[31m?\u001b[0m eta \u001b[36m-:--:--\u001b[0m\r\u001b[2K     \u001b[91m━━━━━━━\u001b[0m\u001b[90m╺\u001b[0m\u001b[90m━━━━━━━━━━━━━━━━━━━━━━━━━━━━━━━━\u001b[0m \u001b[32m41.0/232.6 kB\u001b[0m \u001b[31m1.1 MB/s\u001b[0m eta \u001b[36m0:00:01\u001b[0m\r\u001b[2K     \u001b[91m━━━━━━━━━━━━━━━━━━━━━━━━\u001b[0m\u001b[91m╸\u001b[0m\u001b[90m━━━━━━━━━━━━━━━\u001b[0m \u001b[32m143.4/232.6 kB\u001b[0m \u001b[31m2.0 MB/s\u001b[0m eta \u001b[36m0:00:01\u001b[0m\r\u001b[2K     \u001b[90m━━━━━━━━━━━━━━━━━━━━━━━━━━━━━━━━━━━━━━━━\u001b[0m \u001b[32m232.6/232.6 kB\u001b[0m \u001b[31m2.5 MB/s\u001b[0m eta \u001b[36m0:00:00\u001b[0m\n",
            "\u001b[?25hInstalling collected packages: PyPDF2\n",
            "Successfully installed PyPDF2-3.0.1\n"
          ]
        }
      ]
    },
    {
      "cell_type": "code",
      "execution_count": 4,
      "metadata": {
        "id": "rx_Abuu_CQBp"
      },
      "outputs": [],
      "source": [
        "from PyPDF2 import PdfFileReader"
      ]
    },
    {
      "cell_type": "code",
      "source": [
        "with open ( \" sample . pdf \" , \" rb \" ) as pdf :\n",
        "# Creating pdf reader object\n",
        " pdf_reader = PdfFileReader ( pdf )"
      ],
      "metadata": {
        "id": "zFgqFUUyDG4q"
      },
      "execution_count": null,
      "outputs": []
    },
    {
      "cell_type": "code",
      "source": [
        "# Fetching number of pages in the PDF\n",
        "num_pages = pdf_reader . numPages\n",
        "print (\n",
        "\" Total no . of pages : {} \" . format ( num_pages )\n",
        ")\n",
        "if num_pages > 0:\n",
        "# Creating a page object for the 1 st page\n",
        "# Replace 0 with 1 to access the 2 nd page ,\n",
        "# and so on\n",
        "page = pdf_reader . getPage (0)\n",
        "# Extracting text from the page\n",
        "text = page . extractText ()\n",
        "print ( \" Contents of the first page :\\ n \" )\n",
        "print ( text )"
      ],
      "metadata": {
        "id": "e4MmjgFoDRks"
      },
      "execution_count": null,
      "outputs": []
    }
  ]
}